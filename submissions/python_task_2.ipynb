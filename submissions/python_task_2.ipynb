{
 "cells": [
  {
   "cell_type": "code",
   "execution_count": 3,
   "id": "c657d7a1",
   "metadata": {},
   "outputs": [],
   "source": [
    "import pandas as pd\n",
    "import numpy as np"
   ]
  },
  {
   "cell_type": "code",
   "execution_count": 31,
   "id": "c2873fa6",
   "metadata": {},
   "outputs": [],
   "source": [
    "df = pd.read_csv('dataset-3.csv')"
   ]
  },
  {
   "cell_type": "code",
   "execution_count": 32,
   "id": "8aa58d79",
   "metadata": {
    "scrolled": true
   },
   "outputs": [
    {
     "data": {
      "text/html": [
       "<div>\n",
       "<style scoped>\n",
       "    .dataframe tbody tr th:only-of-type {\n",
       "        vertical-align: middle;\n",
       "    }\n",
       "\n",
       "    .dataframe tbody tr th {\n",
       "        vertical-align: top;\n",
       "    }\n",
       "\n",
       "    .dataframe thead th {\n",
       "        text-align: right;\n",
       "    }\n",
       "</style>\n",
       "<table border=\"1\" class=\"dataframe\">\n",
       "  <thead>\n",
       "    <tr style=\"text-align: right;\">\n",
       "      <th></th>\n",
       "      <th>id_start</th>\n",
       "      <th>id_end</th>\n",
       "      <th>distance</th>\n",
       "    </tr>\n",
       "  </thead>\n",
       "  <tbody>\n",
       "    <tr>\n",
       "      <th>0</th>\n",
       "      <td>1001400</td>\n",
       "      <td>1001402</td>\n",
       "      <td>9.7</td>\n",
       "    </tr>\n",
       "    <tr>\n",
       "      <th>1</th>\n",
       "      <td>1001402</td>\n",
       "      <td>1001404</td>\n",
       "      <td>20.2</td>\n",
       "    </tr>\n",
       "    <tr>\n",
       "      <th>2</th>\n",
       "      <td>1001404</td>\n",
       "      <td>1001406</td>\n",
       "      <td>16.0</td>\n",
       "    </tr>\n",
       "    <tr>\n",
       "      <th>3</th>\n",
       "      <td>1001406</td>\n",
       "      <td>1001408</td>\n",
       "      <td>21.7</td>\n",
       "    </tr>\n",
       "    <tr>\n",
       "      <th>4</th>\n",
       "      <td>1001408</td>\n",
       "      <td>1001410</td>\n",
       "      <td>11.1</td>\n",
       "    </tr>\n",
       "  </tbody>\n",
       "</table>\n",
       "</div>"
      ],
      "text/plain": [
       "   id_start   id_end  distance\n",
       "0   1001400  1001402       9.7\n",
       "1   1001402  1001404      20.2\n",
       "2   1001404  1001406      16.0\n",
       "3   1001406  1001408      21.7\n",
       "4   1001408  1001410      11.1"
      ]
     },
     "execution_count": 32,
     "metadata": {},
     "output_type": "execute_result"
    }
   ],
   "source": [
    "df.head()"
   ]
  },
  {
   "cell_type": "code",
   "execution_count": 40,
   "id": "1773faf9",
   "metadata": {},
   "outputs": [
    {
     "data": {
      "text/plain": [
       "(44, 3)"
      ]
     },
     "execution_count": 40,
     "metadata": {},
     "output_type": "execute_result"
    }
   ],
   "source": [
    "df.shape"
   ]
  },
  {
   "cell_type": "code",
   "execution_count": 41,
   "id": "e02f5578",
   "metadata": {},
   "outputs": [
    {
     "name": "stdout",
     "output_type": "stream",
     "text": [
      "<class 'pandas.core.frame.DataFrame'>\n",
      "RangeIndex: 44 entries, 0 to 43\n",
      "Data columns (total 3 columns):\n",
      " #   Column    Non-Null Count  Dtype  \n",
      "---  ------    --------------  -----  \n",
      " 0   id_start  44 non-null     int64  \n",
      " 1   id_end    44 non-null     int64  \n",
      " 2   distance  44 non-null     float64\n",
      "dtypes: float64(1), int64(2)\n",
      "memory usage: 1.2 KB\n"
     ]
    }
   ],
   "source": [
    "df.info()"
   ]
  },
  {
   "cell_type": "code",
   "execution_count": 44,
   "id": "f688755e",
   "metadata": {},
   "outputs": [
    {
     "name": "stdout",
     "output_type": "stream",
     "text": [
      "         1001400  1001402  1001404  1001406  1001408  1001410  1001412  \\\n",
      "1001400      0.0      9.7      0.0      0.0      0.0      0.0      0.0   \n",
      "1001402      9.7      0.0     20.2      0.0      0.0      0.0      0.0   \n",
      "1001404      0.0     20.2      0.0     16.0      0.0      0.0      0.0   \n",
      "1001406      0.0      0.0     16.0      0.0     21.7      0.0      0.0   \n",
      "1001408      0.0      0.0      0.0     21.7      0.0     11.1      0.0   \n",
      "1001410      0.0      0.0      0.0      0.0     11.1      0.0     15.6   \n",
      "1001412      0.0      0.0      0.0      0.0      0.0     15.6      0.0   \n",
      "1001414      0.0      0.0      0.0      0.0      0.0      0.0     18.2   \n",
      "1001416      0.0      0.0      0.0      0.0      0.0      0.0      0.0   \n",
      "1001418      0.0      0.0      0.0      0.0      0.0      0.0      0.0   \n",
      "1001420      0.0      0.0      0.0      0.0      0.0      0.0      0.0   \n",
      "1001422      0.0      0.0      0.0      0.0      0.0      0.0      0.0   \n",
      "1001424      0.0      0.0      0.0      0.0      0.0      0.0      0.0   \n",
      "1001426      0.0      0.0      0.0      0.0      0.0      0.0      0.0   \n",
      "1001428      0.0      0.0      0.0      0.0      0.0      0.0      0.0   \n",
      "1001430      0.0      0.0      0.0      0.0      0.0      0.0      0.0   \n",
      "1001432      0.0      0.0      0.0      0.0      0.0      0.0      0.0   \n",
      "1001434      0.0      0.0      0.0      0.0      0.0      0.0      0.0   \n",
      "1001436      0.0      0.0      0.0      0.0      0.0      0.0      0.0   \n",
      "1001437      0.0      0.0      0.0      0.0      0.0      0.0      0.0   \n",
      "1001438      0.0      0.0      0.0      0.0      0.0      0.0      0.0   \n",
      "1001440      0.0      0.0      0.0      0.0      0.0      0.0      0.0   \n",
      "1001442      0.0      0.0      0.0      0.0      0.0      0.0      0.0   \n",
      "1001444      0.0      0.0      0.0      0.0      0.0      0.0      0.0   \n",
      "1001446      0.0      0.0      0.0      0.0      0.0      0.0      0.0   \n",
      "1001448      0.0      0.0      0.0      0.0      0.0      0.0      0.0   \n",
      "1001450      0.0      0.0      0.0      0.0      0.0      0.0      0.0   \n",
      "1001452      0.0      0.0      0.0      0.0      0.0      0.0      0.0   \n",
      "1001454      0.0      0.0      0.0      0.0      0.0      0.0      0.0   \n",
      "1001456      0.0      0.0      0.0      0.0      0.0      0.0      0.0   \n",
      "1001458      0.0      0.0      0.0      0.0      0.0      0.0      0.0   \n",
      "1001460      0.0      0.0      0.0      0.0      0.0      0.0      0.0   \n",
      "1001461      0.0      0.0      0.0      0.0      0.0      0.0      0.0   \n",
      "1001462      0.0      0.0      0.0      0.0      0.0      0.0      0.0   \n",
      "1001464      0.0      0.0      0.0      0.0      0.0      0.0      0.0   \n",
      "1001466      0.0      0.0      0.0      0.0      0.0      0.0      0.0   \n",
      "1001468      0.0      0.0      0.0      0.0      0.0      0.0      0.0   \n",
      "1001470      0.0      0.0      0.0      0.0      0.0      0.0      0.0   \n",
      "1001472      0.0      0.0      0.0      0.0      0.0      0.0      0.0   \n",
      "1001488      0.0      0.0      0.0      0.0      0.0      0.0      0.0   \n",
      "1004354      0.0      0.0      0.0      0.0      0.0      0.0      0.0   \n",
      "1004355      0.0      0.0      0.0      0.0      0.0      0.0      0.0   \n",
      "1004356      0.0      0.0      0.0      0.0      0.0      0.0      0.0   \n",
      "\n",
      "         1001414  1001416  1001418  ...  1001462  1001464  1001466  1001468  \\\n",
      "1001400      0.0      0.0      0.0  ...      0.0      0.0      0.0      0.0   \n",
      "1001402      0.0      0.0      0.0  ...      0.0      0.0      0.0      0.0   \n",
      "1001404      0.0      0.0      0.0  ...      0.0      0.0      0.0      0.0   \n",
      "1001406      0.0      0.0      0.0  ...      0.0      0.0      0.0      0.0   \n",
      "1001408      0.0      0.0      0.0  ...      0.0      0.0      0.0      0.0   \n",
      "1001410      0.0      0.0      0.0  ...      0.0      0.0      0.0      0.0   \n",
      "1001412     18.2      0.0      0.0  ...      0.0      0.0      0.0      0.0   \n",
      "1001414      0.0     13.2      0.0  ...      0.0      0.0      0.0      0.0   \n",
      "1001416     13.2      0.0     13.6  ...      0.0      0.0      0.0      0.0   \n",
      "1001418      0.0     13.6      0.0  ...      0.0      0.0      0.0      0.0   \n",
      "1001420      0.0      0.0     12.9  ...      0.0      0.0      0.0      0.0   \n",
      "1001422      0.0      0.0      0.0  ...      0.0      0.0      0.0      0.0   \n",
      "1001424      0.0      0.0      0.0  ...      0.0      0.0      0.0      0.0   \n",
      "1001426      0.0      0.0      0.0  ...      0.0      0.0      0.0      0.0   \n",
      "1001428      0.0      0.0      0.0  ...      0.0      0.0      0.0      0.0   \n",
      "1001430      0.0      0.0      0.0  ...      0.0      0.0      0.0      0.0   \n",
      "1001432      0.0      0.0      0.0  ...      0.0      0.0      0.0      0.0   \n",
      "1001434      0.0      0.0      0.0  ...      0.0      0.0      0.0      0.0   \n",
      "1001436      0.0      0.0      0.0  ...      0.0      0.0      0.0      0.0   \n",
      "1001437      0.0      0.0      0.0  ...      0.0      0.0      0.0      0.0   \n",
      "1001438      0.0      0.0      0.0  ...      0.0      0.0      0.0      0.0   \n",
      "1001440      0.0      0.0      0.0  ...      0.0      0.0      0.0      0.0   \n",
      "1001442      0.0      0.0      0.0  ...      0.0      0.0      0.0      0.0   \n",
      "1001444      0.0      0.0      0.0  ...      0.0      0.0      0.0      0.0   \n",
      "1001446      0.0      0.0      0.0  ...      0.0      0.0      0.0      0.0   \n",
      "1001448      0.0      0.0      0.0  ...      0.0      0.0      0.0      0.0   \n",
      "1001450      0.0      0.0      0.0  ...      0.0      0.0      0.0      0.0   \n",
      "1001452      0.0      0.0      0.0  ...      0.0      0.0      0.0      0.0   \n",
      "1001454      0.0      0.0      0.0  ...      0.0      0.0      0.0      0.0   \n",
      "1001456      0.0      0.0      0.0  ...      0.0      0.0      0.0      0.0   \n",
      "1001458      0.0      0.0      0.0  ...      0.0      0.0      0.0      0.0   \n",
      "1001460      0.0      0.0      0.0  ...     17.9      0.0      0.0      0.0   \n",
      "1001461      0.0      0.0      0.0  ...      5.1      0.0      0.0      0.0   \n",
      "1001462      0.0      0.0      0.0  ...      0.0     26.7      0.0      0.0   \n",
      "1001464      0.0      0.0      0.0  ...     26.7      0.0      8.5      0.0   \n",
      "1001466      0.0      0.0      0.0  ...      0.0      8.5      0.0     10.7   \n",
      "1001468      0.0      0.0      0.0  ...      0.0      0.0     10.7      0.0   \n",
      "1001470      0.0      0.0      0.0  ...      0.0      0.0      0.0     10.6   \n",
      "1001472      0.0      0.0      0.0  ...      0.0      0.0      0.0      0.0   \n",
      "1001488      0.0      0.0      0.0  ...      0.0      0.0      0.0      0.0   \n",
      "1004354      0.0      0.0      0.0  ...      0.0      0.0      0.0      0.0   \n",
      "1004355      0.0      0.0      0.0  ...      0.0      0.0      0.0      0.0   \n",
      "1004356      0.0      0.0      0.0  ...      0.0      0.0      0.0      0.0   \n",
      "\n",
      "         1001470  1001472  1001488  1004354  1004355  1004356  \n",
      "1001400      0.0        0      0.0        0      0.0        0  \n",
      "1001402      0.0        0      0.0        0      0.0        0  \n",
      "1001404      0.0        0      0.0        0      0.0        0  \n",
      "1001406      0.0        0      0.0        0      0.0        0  \n",
      "1001408      0.0        0      0.0        0      0.0        0  \n",
      "1001410      0.0        0      0.0        0      0.0        0  \n",
      "1001412      0.0        0      0.0        0      0.0        0  \n",
      "1001414      0.0        0      0.0        0      0.0        0  \n",
      "1001416      0.0        0      0.0        0      0.0        0  \n",
      "1001418      0.0        0      0.0        0      0.0        0  \n",
      "1001420      0.0        0      0.0        0      0.0        0  \n",
      "1001422      0.0        0      0.0        0      0.0        0  \n",
      "1001424      0.0        0      0.0        0      0.0        0  \n",
      "1001426      0.0        0      0.0        0      0.0        0  \n",
      "1001428      0.0        0      0.0        0      0.0        0  \n",
      "1001430      0.0        0      0.0        0      0.0        0  \n",
      "1001432      0.0        0      0.0        0      0.0        0  \n",
      "1001434      0.0        0      0.0        0      0.0        0  \n",
      "1001436      0.0        0      0.0        0      0.0        0  \n",
      "1001437      0.0        0      0.0        0      0.0        0  \n",
      "1001438      0.0        0      0.0        0      0.0        0  \n",
      "1001440      0.0        0      0.0        0      0.0        0  \n",
      "1001442      0.0        0      4.5        0      0.0        0  \n",
      "1001444      0.0        0      0.0        0      0.7        0  \n",
      "1001446      0.0        0      0.0        0      0.0        0  \n",
      "1001448      0.0        0      0.0        0      0.0        0  \n",
      "1001450      0.0        0      0.0        0      0.0        0  \n",
      "1001452      0.0        0      0.0        0      0.0        0  \n",
      "1001454      0.0        0      0.0        0      0.0        0  \n",
      "1001456      0.0        0      0.0        0      0.0        0  \n",
      "1001458      0.0        0      0.0        0      0.0        0  \n",
      "1001460      0.0        0      0.0        0      0.0        0  \n",
      "1001461      0.0        0      0.0        0      0.0        0  \n",
      "1001462      0.0        0      0.0        0      0.0        0  \n",
      "1001464      0.0        0      0.0        0      0.0        0  \n",
      "1001466      0.0        0      0.0        0      0.0        0  \n",
      "1001468     10.6        0      0.0        0      0.0        0  \n",
      "1001470      0.0       16      0.0        0      0.0        0  \n",
      "1001472     16.0        0      0.0        0      0.0        0  \n",
      "1001488      0.0        0      0.0        0      0.0        4  \n",
      "1004354      0.0        0      0.0        0      2.0        2  \n",
      "1004355      0.0        0      0.0        2      0.0        0  \n",
      "1004356      0.0        0      4.0        2      0.0        0  \n",
      "\n",
      "[43 rows x 43 columns]\n"
     ]
    }
   ],
   "source": [
    "def calculate_distance_matrix(file_path):\n",
    "    df = pd.read_csv(file_path)\n",
    "    columns = sorted(set(df['id_start'].unique()) | set(df['id_end'].unique()))\n",
    "    distance_matrix = pd.DataFrame(index=columns, columns=columns)\n",
    "    distance_matrix = distance_matrix.fillna(0)\n",
    "    for index, row in df.iterrows():\n",
    "        start_id, end_id, distance = row['id_start'], row['id_end'], row['distance']\n",
    "        distance_matrix.at[start_id, end_id] += distance\n",
    "        distance_matrix.at[end_id, start_id] += distance\n",
    "    for column in columns:\n",
    "        distance_matrix.at[column, column] = 0\n",
    "    return distance_matrix\n",
    "file_path = r'C:\\Users\\win10\\submissions\\dataset-3.csv'\n",
    "resulting_matrix = calculate_distance_matrix(file_path)\n",
    "print(resulting_matrix)"
   ]
  },
  {
   "cell_type": "code",
   "execution_count": 48,
   "id": "8a4461e8",
   "metadata": {},
   "outputs": [
    {
     "name": "stdout",
     "output_type": "stream",
     "text": [
      "    id_start   id_end  distance\n",
      "0    1001400  1001402       9.7\n",
      "1    1001400  1001404       0.0\n",
      "2    1001400  1001406       0.0\n",
      "3    1001400  1001408       0.0\n",
      "4    1001400  1001410       0.0\n",
      "..       ...      ...       ...\n",
      "898  1001488  1004355       0.0\n",
      "899  1001488  1004356       4.0\n",
      "900  1004354  1004355       2.0\n",
      "901  1004354  1004356       2.0\n",
      "902  1004355  1004356       0.0\n",
      "\n",
      "[903 rows x 3 columns]\n"
     ]
    }
   ],
   "source": [
    "def unroll_distance_matrix(distance_matrix):\n",
    "    # Create an empty DataFrame for unrolled distances\n",
    "    unrolled_df = pd.DataFrame(columns=['id_start', 'id_end', 'distance'])\n",
    "    for i in range(len(distance_matrix.index)):\n",
    "        for j in range(i + 1, len(distance_matrix.columns)):\n",
    "            id_start = distance_matrix.index[i]\n",
    "            id_end = distance_matrix.columns[j]\n",
    "            distance = distance_matrix.at[id_start, id_end]\n",
    "            unrolled_df = pd.concat([unrolled_df, pd.DataFrame([[id_start, id_end, distance]],\n",
    "                                                                columns=['id_start', 'id_end', 'distance'])],ignore_index=True)\n",
    "    return unrolled_df\n",
    "file_path = r'C:\\Users\\win10\\submissions\\dataset-3.csv'\n",
    "distance_matrix = calculate_distance_matrix(file_path)\n",
    "unrolled_distances = unroll_distance_matrix(distance_matrix)\n",
    "print(unrolled_distances)"
   ]
  },
  {
   "cell_type": "code",
   "execution_count": 52,
   "id": "6b60f949",
   "metadata": {},
   "outputs": [
    {
     "name": "stdout",
     "output_type": "stream",
     "text": [
      "Reference Value: 1001400\n",
      "Average Distance: 0.23095238095238094\n",
      "Lower Bound: 0.20785714285714285\n",
      "Upper Bound: 0.2540476190476191\n",
      "[]\n"
     ]
    }
   ],
   "source": [
    "def find_ids_within_ten_percentage_threshold(df, reference_value):\n",
    "    reference_df = df[df['id_start'] == reference_value]\n",
    "    if reference_df.empty:\n",
    "        print(f\"No data found for reference value {reference_value}.\")\n",
    "        return []\n",
    "    average_distance = reference_df['distance'].mean()\n",
    "    print(f\"Reference Value: {reference_value}\")\n",
    "    print(f\"Average Distance: {average_distance}\")\n",
    "    lower_bound = average_distance * 0.9\n",
    "    upper_bound = average_distance * 1.1\n",
    "    print(f\"Lower Bound: {lower_bound}\")\n",
    "    print(f\"Upper Bound: {upper_bound}\")\n",
    "    filtered_df = df[(df['distance'] >= lower_bound) & (df['distance'] <= upper_bound)]\n",
    "    result_ids = sorted(filtered_df['id_start'].unique())\n",
    "    return result_ids\n",
    "file_path = 'path/to/dataset-2.csv' \n",
    "unrolled_distances = unroll_distance_matrix(distance_matrix)\n",
    "reference_value = 1001400  \n",
    "result_ids = find_ids_within_ten_percentage_threshold(unrolled_distances, reference_value)\n",
    "print(result_ids)"
   ]
  },
  {
   "cell_type": "code",
   "execution_count": 53,
   "id": "3501d583",
   "metadata": {},
   "outputs": [
    {
     "name": "stdout",
     "output_type": "stream",
     "text": [
      "    id_start   id_end  distance  moto    car     rv    bus  truck\n",
      "0    1001400  1001402       9.7  7.76  11.64  14.55  21.34  34.92\n",
      "1    1001400  1001404       0.0  0.00   0.00   0.00   0.00   0.00\n",
      "2    1001400  1001406       0.0  0.00   0.00   0.00   0.00   0.00\n",
      "3    1001400  1001408       0.0  0.00   0.00   0.00   0.00   0.00\n",
      "4    1001400  1001410       0.0  0.00   0.00   0.00   0.00   0.00\n",
      "..       ...      ...       ...   ...    ...    ...    ...    ...\n",
      "898  1001488  1004355       0.0  0.00   0.00   0.00   0.00   0.00\n",
      "899  1001488  1004356       4.0  3.20   4.80   6.00   8.80  14.40\n",
      "900  1004354  1004355       2.0  1.60   2.40   3.00   4.40   7.20\n",
      "901  1004354  1004356       2.0  1.60   2.40   3.00   4.40   7.20\n",
      "902  1004355  1004356       0.0  0.00   0.00   0.00   0.00   0.00\n",
      "\n",
      "[903 rows x 8 columns]\n"
     ]
    }
   ],
   "source": [
    "def calculate_toll_rate(df):\n",
    "    rate_coefficients = {\n",
    "        'moto': 0.8,\n",
    "        'car': 1.2,\n",
    "        'rv': 1.5,\n",
    "        'bus': 2.2,\n",
    "        'truck': 3.6\n",
    "    }\n",
    "    for vehicle_type, rate in rate_coefficients.items():\n",
    "        df[vehicle_type] = df['distance'] * rate\n",
    "    return df\n",
    "file_path = 'path/to/dataset-2.csv'  # Use the path to the file generated in Question 2\n",
    "unrolled_distances = unroll_distance_matrix(distance_matrix)\n",
    "toll_rates_df = calculate_toll_rate(unrolled_distances)\n",
    "print(toll_rates_df)"
   ]
  },
  {
   "cell_type": "code",
   "execution_count": 62,
   "id": "9708f33e",
   "metadata": {},
   "outputs": [
    {
     "name": "stdout",
     "output_type": "stream",
     "text": [
      "     id_start   id_end  distance start_day start_time end_day  end_time  \\\n",
      "0     1001400  1001402       9.7    Monday   00:00:00  Sunday  10:00:00   \n",
      "1     1001402  1001404      20.2    Monday   00:00:00  Sunday  10:00:00   \n",
      "2     1001404  1001406      16.0    Monday   00:00:00  Sunday  10:00:00   \n",
      "3     1001406  1001408      21.7    Monday   00:00:00  Sunday  10:00:00   \n",
      "4     1001408  1001410      11.1    Monday   00:00:00  Sunday  10:00:00   \n",
      "..        ...      ...       ...       ...        ...     ...       ...   \n",
      "127   1001462  1001464      26.7    Monday   18:00:00  Sunday  23:59:59   \n",
      "128   1001464  1001466       8.5    Monday   18:00:00  Sunday  23:59:59   \n",
      "129   1001466  1001468      10.7    Monday   18:00:00  Sunday  23:59:59   \n",
      "130   1001468  1001470      10.6    Monday   18:00:00  Sunday  23:59:59   \n",
      "131   1001470  1001472      16.0    Monday   18:00:00  Sunday  23:59:59   \n",
      "\n",
      "     discount_factor  \n",
      "0                0.8  \n",
      "1                0.8  \n",
      "2                0.8  \n",
      "3                0.8  \n",
      "4                0.8  \n",
      "..               ...  \n",
      "127              0.8  \n",
      "128              0.8  \n",
      "129              0.8  \n",
      "130              0.8  \n",
      "131              0.8  \n",
      "\n",
      "[132 rows x 8 columns]\n"
     ]
    }
   ],
   "source": [
    "from datetime import time\n",
    "def calculate_time_based_toll_rates(df):\n",
    "    time_ranges = [\n",
    "        (time(0, 0, 0), time(10, 0, 0), 0.8),\n",
    "        (time(10, 0, 0), time(18, 0, 0), 1.2),\n",
    "        (time(18, 0, 0), time(23, 59, 59), 0.8)\n",
    "    ]\n",
    "    result_df = pd.DataFrame()\n",
    "\n",
    "    for start_time, end_time, discount_factor in time_ranges:\n",
    "        df['discount_factor'] = discount_factor\n",
    "        df['start_day'] = 'Monday'  \n",
    "        df['start_time'] = start_time\n",
    "        df['end_day'] = 'Sunday'  \n",
    "        df['end_time'] = end_time\n",
    "        result_df = pd.concat([result_df, df], ignore_index=True)\n",
    "    result_df.loc[result_df['start_day'].isin(['Saturday', 'Sunday']), 'discount_factor'] = 0.7\n",
    "    return result_df[['id_start', 'id_end', 'distance', 'start_day', 'start_time', 'end_day', 'end_time', 'discount_factor']]\n",
    "file_path = r'C:\\Users\\win10\\submissions\\dataset-3.csv'\n",
    "time_based_toll_rates_df = calculate_time_based_toll_rates(pd.read_csv(file_path))\n",
    "print(time_based_toll_rates_df)"
   ]
  }
 ],
 "metadata": {
  "kernelspec": {
   "display_name": "Python 3 (ipykernel)",
   "language": "python",
   "name": "python3"
  },
  "language_info": {
   "codemirror_mode": {
    "name": "ipython",
    "version": 3
   },
   "file_extension": ".py",
   "mimetype": "text/x-python",
   "name": "python",
   "nbconvert_exporter": "python",
   "pygments_lexer": "ipython3",
   "version": "3.11.5"
  }
 },
 "nbformat": 4,
 "nbformat_minor": 5
}
